{
 "cells": [
  {
   "cell_type": "markdown",
   "id": "37ea0aa6",
   "metadata": {},
   "source": [
    "# Práctica de laboratorio: Análisis de Emociones y Sentimiento"
   ]
  },
  {
   "cell_type": "markdown",
   "id": "c6931d04",
   "metadata": {},
   "source": [
    "## Recursos\n",
    "\n",
    "\n",
    "\n",
    "[Natural Language Toolkit](https://www.nltk.org/)\n",
    "\n",
    "[Léxico de Emociones](https://saifmohammad.com/WebPages/NRC-Emotion-Lexicon.htm)\n",
    "\n",
    "[WordNet](https://wordnet.princeton.edu/)\n",
    "\n",
    "[ProjectGutenberg](https://www.gutenberg.org/)\n"
   ]
  },
  {
   "cell_type": "markdown",
   "id": "5b30e548",
   "metadata": {},
   "source": [
    "## Tarea 1 (1.5 puntos)\n",
    "\n",
    "Cargar en una estructura de datos Python el Word-Emotion Association Lexicon del NRC5. Asegúrate de entender cómo se estructura el léxico y cómo se mapean las palabras a las emociones. Hay que tener en cuenta que existen varios ficheros con la misma información: un fichero con toda la información, un fichero por emoción, etc. Se puede elegir la opción que se estime oportuna. Se deberá considerar cómo organizar el léxico en memoria para un acceso rápido durante el análisis."
   ]
  },
  {
   "cell_type": "code",
   "execution_count": null,
   "id": "72565be1",
   "metadata": {},
   "outputs": [],
   "source": []
  },
  {
   "cell_type": "markdown",
   "id": "92ad993e",
   "metadata": {},
   "source": [
    "## Tarea 2 (3.0 puntos)\n",
    "\n",
    "Extender EmoLex utilizando WordNet desde NLTK6 para incluir sinónimos, hipónimos, hiperónimos de las palabras ya presentes en el léxico. También puedes usar la función derivationally_related_forms() de WordNet de modo que el léxico pueda extenderse más aún. Esta función devuelve una lista de formas derivadas de una palabra, como plurales, participios pasados, etc. Esto puede ser útil para encontrar variaciones de una palabra que puedan estar asociadas con la misma emoción. El léxico deberá implementarse como un diccionario Python que tenga como clave una dupla <lemma, POS-tag>, y como valor la lista de emociones con las que dicha dupla se podría asociar. \n",
    "\n",
    "Para poder usar NLTK y WordNet deberás instalar NLTK con pip y luego importarlas y cargarlas del siguiente modo:"
   ]
  },
  {
   "cell_type": "code",
   "execution_count": null,
   "id": "85137646",
   "metadata": {},
   "outputs": [],
   "source": [
    "from nltk.corpus import wordnet as wn\n",
    "import nltk\n",
    "nltk.download('wordnet') "
   ]
  },
  {
   "cell_type": "markdown",
   "id": "eb53c90b",
   "metadata": {},
   "source": [
    "Por otra parte, dado que la codificación de POS-tagging que emplea WordNet no es la del PennTreeBank, para hacer traducciones entre una y otra nomenclatura, se puede emplear los siguientes diccionarios. "
   ]
  },
  {
   "cell_type": "code",
   "execution_count": null,
   "id": "87e3bc97",
   "metadata": {},
   "outputs": [],
   "source": [
    "wordnet_to_penn = {\n",
    " 'n': 'NN', # sustantivo\n",
    " 'v': 'VB', # verbo\n",
    " 'a': 'JJ', # adjetivo\n",
    " 's': 'JJ', # adjetivo superlativo\n",
    " 'r': 'RB', # adverbio\n",
    " 'c': 'CC' # conjunción\n",
    "}\n",
    "penn_to_wordnet = {\n",
    " 'CC': 'c', # Coordinating conjunction\n",
    " 'CD': 'c', # Cardinal number\n",
    " 'DT': 'c', # Determiner\n",
    " 'EX': 'c', # Existential there\n",
    " 'FW': 'x', # Foreign word\n",
    " 'IN': 'c', # Preposition or subordinating conjunction\n",
    " 'JJ': 'a', # Adjective\n",
    " 'JJR': 'a', # Adjective, comparative\n",
    " 'JJS': 'a', # Adjective, superlative\n",
    " 'LS': 'c', # List item marker\n",
    " 'MD': 'v', # Modal\n",
    " 'NN': 'n', # Noun, singular or mass\n",
    " 'NNS': 'n', # Noun, plural\n",
    " 'NNP': 'n', # Proper noun, singular\n",
    " 'NNPS': 'n', # Proper noun, plura\n",
    " 'PDT': 'c', # Predeterminer\n",
    " 'POS': 'c', # Possessive ending\n",
    " 'PRP': 'n', # Personal pronoun\n",
    " 'PRP$': 'n', # Possessive pronoun\n",
    " 'RB': 'r', # Adverb\n",
    " 'RBR': 'r', # Adverb, comparative\n",
    " 'RBS': 'r', # Adverb, superlative\n",
    " 'RP': 'r', # Particle\n",
    " 'SYM': 'x', # Symbol\n",
    " 'TO': 'c', # to\n",
    " 'UH': 'x', # Interjection\n",
    " 'VB': 'v', # Verb, base form\n",
    " 'VBD': 'v', # Verb, past tense\n",
    " 'VBG': 'v', # Verb, gerund or present participle\n",
    " 'VBN': 'v', # Verb, past participle\n",
    " 'VBP': 'v', # Verb, non-3rd person singular present\n",
    " 'VBZ': 'v', # Verb, 3rd person singular present\n",
    " 'WDT': 'c', # Wh-determiner\n",
    " 'WP': 'n', # Wh-pronoun\n",
    " 'WP$': 'n', # Possessive wh-pronoun\n",
    " 'WRB': 'r', # Wh-adverb\n",
    " 'X': 'x' # Any word not categorized by the other tags\n",
    "}"
   ]
  },
  {
   "cell_type": "markdown",
   "id": "b6fe02fc",
   "metadata": {},
   "source": [
    "## Tarea 3 (1.5 puntos)\n",
    "\n",
    "Cargar el texto de novelas clásicas disponibles en Project Gutenberg. El siguiente es un diccionario con 10 novelas conocidas que están accesibles en Project Gutenberg que puedes usar en tu código."
   ]
  },
  {
   "cell_type": "code",
   "execution_count": 5,
   "id": "7742f525",
   "metadata": {},
   "outputs": [],
   "source": [
    "books = {\n",
    " 'Crime and Punishment ': 'http://www.gutenberg.org/files/2554/2554-0.txt',\n",
    " 'War and Peace': 'http://www.gutenberg.org/files/2600/2600-0.txt',\n",
    " 'Pride and Prejudice': 'http://www.gutenberg.org/files/1342/1342-0.txt',\n",
    " 'Frankenstein': 'https://www.gutenberg.org/cache/epub/84/pg84.txt',\n",
    " 'The Adventures of Sherlock Holmes': 'http://www.gutenberg.org/files/1661/1661-0.txt',\n",
    " 'Ulysses': 'http://www.gutenberg.org/files/4300/4300-0.txt',\n",
    " 'The Odyssey': 'https://www.gutenberg.org/cache/epub/1727/pg1727.txt',\n",
    " 'Moby Dick': 'http://www.gutenberg.org/files/15/15-0.txt',\n",
    " 'The Divine Comedy': 'https://www.gutenberg.org/cache/epub/8800/pg8800.txt',\n",
    " 'Critias': 'https://www.gutenberg.org/cache/epub/1571/pg1571.txt'\n",
    "} "
   ]
  },
  {
   "cell_type": "markdown",
   "id": "bed7ec9b",
   "metadata": {},
   "source": [
    "Se puede usar el siguiente fragmento de código para descargar el texto de una novela:"
   ]
  },
  {
   "cell_type": "code",
   "execution_count": 6,
   "id": "e28ad84f",
   "metadata": {},
   "outputs": [],
   "source": [
    "import requests \n",
    "\n",
    "def download_text(url):\n",
    " \"\"\"Descarga el texto de una novela en formato txt.\"\"\"\n",
    " try:\n",
    "    response = requests.get(url)\n",
    "    response.raise_for_status() # Lanza excepción para códigos HTTP 4xx/5xx\n",
    "    return response.text\n",
    " except requests.exceptions.RequestException as e:\n",
    "    print(f\"Error al descargar el texto: {e}\")\n",
    "    return None "
   ]
  },
  {
   "cell_type": "markdown",
   "id": "01707719",
   "metadata": {},
   "source": [
    "## Tarea 4 (3.0 puntos)\n",
    "\n",
    "Implementar una función para analizar el texto de las novelas de forma básica, contando las ocurrencias de palabras vinculadas con emociones en el texto. Esta función debe:\n",
    "\n",
    "- Leer el texto y dividirlo en palabras individuales (tokenización).\n",
    "- Asignar a cada palabra su correspondiente etiqueta de parte del discurso (POS-tagging) para diferenciar entre verbos, sustantivos, adjetivos, etc.\n",
    "- Lematizar las palabras para reducirlas a su forma base (por ejemplo, \"running\" a \"run\").\n",
    "- Comparar cada dupla <lema, POS-tag> con las entradas en el léxico extendido para determinar la emoción asociada.\n",
    "- Contar las ocurrencias de cada emoción en el texto y generar un informe detallado.\n",
    "\n",
    "Solo por si se necesita a modo de soporte, es posible que la implementación a realizar deba hacer los siguientes import y deba descargar (download) los siguientes recursos de NLTK:"
   ]
  },
  {
   "cell_type": "code",
   "execution_count": 7,
   "id": "e3e8ed2a",
   "metadata": {},
   "outputs": [
    {
     "name": "stderr",
     "output_type": "stream",
     "text": [
      "[nltk_data] Downloading package punkt to\n",
      "[nltk_data]     C:\\Users\\48156348Y\\AppData\\Roaming\\nltk_data...\n",
      "[nltk_data]   Unzipping tokenizers\\punkt.zip.\n",
      "[nltk_data] Downloading package averaged_perceptron_tagger to\n",
      "[nltk_data]     C:\\Users\\48156348Y\\AppData\\Roaming\\nltk_data...\n",
      "[nltk_data]   Unzipping taggers\\averaged_perceptron_tagger.zip.\n"
     ]
    },
    {
     "data": {
      "text/plain": [
       "True"
      ]
     },
     "execution_count": 7,
     "metadata": {},
     "output_type": "execute_result"
    }
   ],
   "source": [
    "from nltk.corpus import wordnet as wn\n",
    "from nltk import pos_tag\n",
    "from nltk.tokenize import word_tokenize\n",
    "from nltk.stem.wordnet import WordNetLemmatizer\n",
    "nltk.download('punkt')\n",
    "nltk.download('averaged_perceptron_tagger') "
   ]
  },
  {
   "cell_type": "markdown",
   "id": "fd8d96bc",
   "metadata": {},
   "source": [
    "## Tarea 5 (1.0 puntos)\n",
    "\n",
    "Presentar los resultados del análisis en las novelas clásicas. Incluir estadísticas sobre las emociones más comunes y cualquier patrón interesante que hayas observado. Considerar cómo visualizar los datos y cómo explicar las conclusiones del análisis solicitado."
   ]
  },
  {
   "cell_type": "code",
   "execution_count": null,
   "id": "e316ffb3",
   "metadata": {},
   "outputs": [],
   "source": []
  }
 ],
 "metadata": {
  "kernelspec": {
   "display_name": "base",
   "language": "python",
   "name": "python3"
  },
  "language_info": {
   "codemirror_mode": {
    "name": "ipython",
    "version": 3
   },
   "file_extension": ".py",
   "mimetype": "text/x-python",
   "name": "python",
   "nbconvert_exporter": "python",
   "pygments_lexer": "ipython3",
   "version": "3.13.5"
  }
 },
 "nbformat": 4,
 "nbformat_minor": 5
}
